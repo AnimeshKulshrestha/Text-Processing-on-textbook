{
  "cells": [
    {
      "cell_type": "markdown",
      "metadata": {
        "id": "view-in-github",
        "colab_type": "text"
      },
      "source": [
        "<a href=\"https://colab.research.google.com/github/AnimeshKulshrestha/Text-Processing-on-textbook/blob/main/Contingent_zeroes.ipynb\" target=\"_parent\"><img src=\"https://colab.research.google.com/assets/colab-badge.svg\" alt=\"Open In Colab\"/></a>"
      ]
    },
    {
      "cell_type": "markdown",
      "metadata": {
        "id": "A1Tz6I2BB4Sq"
      },
      "source": [
        "#Importing Libraries and downloading required packages"
      ]
    },
    {
      "cell_type": "code",
      "execution_count": null,
      "metadata": {
        "id": "9ZG4Yko4B-6R"
      },
      "outputs": [],
      "source": [
        "import re\n",
        "import nltk\n",
        "import string\n",
        "from nltk.tokenize import word_tokenize\n",
        "import pandas as pd\n",
        "import numpy as np\n",
        "from nltk.corpus import stopwords\n",
        "import matplotlib.pyplot as plt\n",
        "import seaborn as sns\n",
        "import nltk\n",
        "from nltk.probability import FreqDist\n",
        "from wordcloud import WordCloud\n",
        "from collections import defaultdict\n",
        "import operator\n",
        "\n",
        "nltk.download('punkt')\n",
        "nltk.download('stopwords')\n",
        "nltk.download('averaged_perceptron_tagger')"
      ]
    },
    {
      "cell_type": "markdown",
      "metadata": {
        "id": "FnA3voCCC_WY"
      },
      "source": [
        "#Defining necessary functions"
      ]
    },
    {
      "cell_type": "markdown",
      "metadata": {
        "id": "sJlk_8jpCC18"
      },
      "source": [
        "###Defining a function for basic text preprocessing"
      ]
    },
    {
      "cell_type": "code",
      "execution_count": 11,
      "metadata": {
        "id": "90xgxXPyCKsI"
      },
      "outputs": [],
      "source": [
        "def text_preprocessing(raw):\n",
        "  # lower case\n",
        "  raw = raw.lower()\n",
        "  # remove numbers\n",
        "  raw = re.sub(r'\\d+', '', raw)\n",
        "  # remove punctuation\n",
        "  raw = re.sub(r'[^\\w\\s]', '', raw)\n",
        "  # white space removal\n",
        "  raw = raw.strip()\n",
        "  #removing any non alphanumeric characters\n",
        "  raw = re.sub('\\W', ' ', raw)  \n",
        "  #removing extra white spaces\n",
        "  raw = re.sub('\\s+', ' ', raw) \n",
        "  #removing chapter numbers and running sections\n",
        "  raw = re.sub('chapter \\w*', '', raw)   \n",
        "  return (raw)"
      ]
    },
    {
      "cell_type": "markdown",
      "metadata": {
        "id": "wNjNcSaOCO2f"
      },
      "source": [
        "###Function to calculate frequency "
      ]
    },
    {
      "cell_type": "code",
      "execution_count": 12,
      "metadata": {
        "id": "JE47W2VyCW4j"
      },
      "outputs": [],
      "source": [
        "def freq(tokens):\n",
        "# frequency of tokens\n",
        "  freq = {}\n",
        "  for t in tokens:\n",
        "    if t in freq:\n",
        "      freq[t]+=1\n",
        "    else:\n",
        "      freq[t]=1\n",
        "  return freq"
      ]
    },
    {
      "cell_type": "markdown",
      "metadata": {
        "id": "nDJAlFOOCbSc"
      },
      "source": [
        "###Function to plot frequency graph"
      ]
    },
    {
      "cell_type": "code",
      "execution_count": 13,
      "metadata": {
        "id": "mbYyeaoECfK1"
      },
      "outputs": [],
      "source": [
        "def freq_graph(tokens):\n",
        "#frequency graph\n",
        "  FreqDist(tokens)\n",
        "  all_fdist = FreqDist(tokens).most_common(60)\n",
        "\n",
        "  all_fdist = pd.Series(dict(all_fdist))\n",
        "\n",
        "  fig, ax = plt.subplots(figsize=(10,10))\n",
        "\n",
        "  all_plot = sns.barplot(x=all_fdist.index, y=all_fdist.values, ax=ax)\n",
        "  plt.xticks(rotation=90)"
      ]
    },
    {
      "cell_type": "markdown",
      "metadata": {
        "id": "AlBRejcKCokp"
      },
      "source": [
        "###Function to generate and display word cloud"
      ]
    },
    {
      "cell_type": "code",
      "execution_count": 14,
      "metadata": {
        "id": "tlu25sefCtp6"
      },
      "outputs": [],
      "source": [
        "def word_cloud(freq):\n",
        "  wc = WordCloud(height = 1000, width = 1500, background_color = 'white', max_words = 1000)\n",
        "  wc.generate_from_frequencies(freq)\n",
        "  return wc"
      ]
    },
    {
      "cell_type": "code",
      "execution_count": 15,
      "metadata": {
        "id": "YfBTX1JkCvZ6"
      },
      "outputs": [],
      "source": [
        "def showCloud(cloud):\n",
        "    plt.figure(figsize=(10,10))\n",
        "    plt.imshow(cloud)\n",
        "    plt.axis('off')"
      ]
    },
    {
      "cell_type": "markdown",
      "metadata": {
        "id": "ziTN-Ce4C0OI"
      },
      "source": [
        "###Function to remove stop words"
      ]
    },
    {
      "cell_type": "code",
      "execution_count": 16,
      "metadata": {
        "id": "Mukt-LW0C2gO"
      },
      "outputs": [],
      "source": [
        "def stopwords_text(text):\n",
        "  stop_words = set(nltk.corpus.stopwords.words('english'))\n",
        "  x = 65\n",
        "  y = 97\n",
        "  for i in range(26):\n",
        "    stop_words.add(chr(x))\n",
        "    stop_words.add(chr(y))\n",
        "    x += 1\n",
        "    y += 1\n",
        "  tokens = word_tokenize(text)\n",
        "  result = [i for i in tokens if not i in stop_words]\n",
        "  return result"
      ]
    },
    {
      "cell_type": "markdown",
      "metadata": {
        "id": "NTdMZpg1C5ZL"
      },
      "source": [
        "###Function to count words"
      ]
    },
    {
      "cell_type": "code",
      "execution_count": 17,
      "metadata": {
        "id": "MLVMFjq0mByl"
      },
      "outputs": [],
      "source": [
        "words ={}\n",
        "def word_counter(text):\n",
        "  words.clear()\n",
        "  for word in text.split():\n",
        "    if(len(word)not in words ):\n",
        "      words[len(word)]=1\n",
        "    else:\n",
        "      words[len(word)]+=1"
      ]
    },
    {
      "cell_type": "markdown",
      "metadata": {
        "id": "oqhTHSUBEPEK"
      },
      "source": [
        "#Loading and Frequency Analysis a text book"
      ]
    },
    {
      "cell_type": "markdown",
      "metadata": {
        "id": "Aj-cg5ehHxLC"
      },
      "source": [
        "###Opening a txt file"
      ]
    },
    {
      "cell_type": "markdown",
      "source": [
        "####Text T1"
      ],
      "metadata": {
        "id": "PFlw_h5CRWZC"
      }
    },
    {
      "cell_type": "code",
      "execution_count": 18,
      "metadata": {
        "id": "8L_28aFYH1iG"
      },
      "outputs": [],
      "source": [
        "f = open('/content/Stinson-Paterson_CryptographyTheoryAndPractice.txt')\n",
        "text = f.read()"
      ]
    },
    {
      "cell_type": "markdown",
      "source": [
        "####Text T2"
      ],
      "metadata": {
        "id": "jDV6eIZPRZAe"
      }
    },
    {
      "cell_type": "code",
      "execution_count": 19,
      "metadata": {
        "id": "Ub7skj_JNqeI"
      },
      "outputs": [],
      "source": [
        "f2 = open('/content/Software-Engineering-9th-Edition-by-Ian-Sommerville.txt')\n",
        "text2 = f2.read()"
      ]
    },
    {
      "cell_type": "markdown",
      "metadata": {
        "id": "6HaQu2YiH4Kb"
      },
      "source": [
        "###Text Preprocessing"
      ]
    },
    {
      "cell_type": "markdown",
      "source": [
        "####for T1"
      ],
      "metadata": {
        "id": "FzlMCtpsTiyc"
      }
    },
    {
      "cell_type": "code",
      "execution_count": 20,
      "metadata": {
        "id": "T2GLbO1TH7NE"
      },
      "outputs": [],
      "source": [
        "t1 = text_preprocessing(text)"
      ]
    },
    {
      "cell_type": "markdown",
      "source": [
        "####for T2"
      ],
      "metadata": {
        "id": "xAWw7Nc_Tkkb"
      }
    },
    {
      "cell_type": "code",
      "execution_count": 21,
      "metadata": {
        "id": "ny-Dy1vVN0BX"
      },
      "outputs": [],
      "source": [
        "t2 = text_preprocessing(text2)"
      ]
    },
    {
      "cell_type": "markdown",
      "metadata": {
        "id": "OcQIzpyiIH03"
      },
      "source": [
        "###Tokenisation"
      ]
    },
    {
      "cell_type": "markdown",
      "source": [
        "####T1"
      ],
      "metadata": {
        "id": "lLfbdateVb7B"
      }
    },
    {
      "cell_type": "code",
      "execution_count": null,
      "metadata": {
        "id": "eBco_9V0ILnh"
      },
      "outputs": [],
      "source": [
        "t1tokens = nltk.word_tokenize(t1)\n",
        "t1tokens"
      ]
    },
    {
      "cell_type": "code",
      "source": [
        "print(\"No. of tokens in T1 :\")\n",
        "print(len(t1tokens))"
      ],
      "metadata": {
        "id": "bJqLLAMxYLv4"
      },
      "execution_count": null,
      "outputs": []
    },
    {
      "cell_type": "markdown",
      "source": [
        "####T2"
      ],
      "metadata": {
        "id": "guSp6yasVdJE"
      }
    },
    {
      "cell_type": "code",
      "execution_count": null,
      "metadata": {
        "id": "40Xt27ZzBqQm"
      },
      "outputs": [],
      "source": [
        "t2tokens = nltk.word_tokenize(t2)\n",
        "t2tokens"
      ]
    },
    {
      "cell_type": "code",
      "source": [
        "print(\"No. of tokens in T2 :\")\n",
        "print(len(t2tokens))"
      ],
      "metadata": {
        "id": "WWBTJB_JYS_N"
      },
      "execution_count": null,
      "outputs": []
    },
    {
      "cell_type": "markdown",
      "metadata": {
        "id": "Nwh7Lu4QIUk9"
      },
      "source": [
        "###Freqency analysis"
      ]
    },
    {
      "cell_type": "markdown",
      "metadata": {
        "id": "tUgtbc9vIYk9"
      },
      "source": [
        "####Calculating frequencies"
      ]
    },
    {
      "cell_type": "markdown",
      "source": [
        "#####for T2"
      ],
      "metadata": {
        "id": "LAROXNggYAoX"
      }
    },
    {
      "cell_type": "code",
      "execution_count": null,
      "metadata": {
        "id": "FnCw3pwxIeoJ"
      },
      "outputs": [],
      "source": [
        "t1freq = freq(t1tokens)\n",
        "print(t1freq)"
      ]
    },
    {
      "cell_type": "markdown",
      "source": [
        "#####for T2"
      ],
      "metadata": {
        "id": "3iRHWlvEX_Eg"
      }
    },
    {
      "cell_type": "code",
      "execution_count": null,
      "metadata": {
        "id": "C4Dd7Bb6CRav"
      },
      "outputs": [],
      "source": [
        "t2freq = freq(t2tokens)\n",
        "print(t2freq)"
      ]
    },
    {
      "cell_type": "markdown",
      "metadata": {
        "id": "mZGQ0ukEIgHL"
      },
      "source": [
        "####Frequency graph of most frequent 60 words "
      ]
    },
    {
      "cell_type": "markdown",
      "source": [
        "#####for T1"
      ],
      "metadata": {
        "id": "bjavkVZI2bFa"
      }
    },
    {
      "cell_type": "code",
      "execution_count": null,
      "metadata": {
        "id": "4P8Q5V1bsKv8"
      },
      "outputs": [],
      "source": [
        "t1freq_graph = freq_graph(t1tokens)"
      ]
    },
    {
      "cell_type": "markdown",
      "source": [
        "#####for T2"
      ],
      "metadata": {
        "id": "xFmrfWAX2dFq"
      }
    },
    {
      "cell_type": "code",
      "execution_count": null,
      "metadata": {
        "id": "W_Zosy22CYJx"
      },
      "outputs": [],
      "source": [
        "t2freq_graph = freq_graph(t2tokens)"
      ]
    },
    {
      "cell_type": "markdown",
      "metadata": {
        "id": "DWmxFu_EIltw"
      },
      "source": [
        "###Generating word cloud without removing stopwords"
      ]
    },
    {
      "cell_type": "markdown",
      "source": [
        "####T1"
      ],
      "metadata": {
        "id": "DGbb80TxZFXx"
      }
    },
    {
      "cell_type": "code",
      "execution_count": null,
      "metadata": {
        "id": "1Jyum1Zlsbrx"
      },
      "outputs": [],
      "source": [
        "t1wordcloud = word_cloud(t1freq)\n",
        "showCloud(t1wordcloud)"
      ]
    },
    {
      "cell_type": "markdown",
      "source": [
        "####T2"
      ],
      "metadata": {
        "id": "I63VG7kwZNOG"
      }
    },
    {
      "cell_type": "code",
      "execution_count": null,
      "metadata": {
        "id": "twcyWnZ-CjB6"
      },
      "outputs": [],
      "source": [
        "t2wordcloud = word_cloud(t2freq)\n",
        "showCloud(t2wordcloud)"
      ]
    },
    {
      "cell_type": "markdown",
      "metadata": {
        "id": "iwIx6T5xI3kO"
      },
      "source": [
        "###Generating wordcloud without stopwords"
      ]
    },
    {
      "cell_type": "markdown",
      "metadata": {
        "id": "-zrMH6NzI85w"
      },
      "source": [
        "####Removing stopwords"
      ]
    },
    {
      "cell_type": "markdown",
      "source": [
        "######T1"
      ],
      "metadata": {
        "id": "TdWRBAn9ZcHg"
      }
    },
    {
      "cell_type": "code",
      "execution_count": 32,
      "metadata": {
        "id": "oFP6G68es8u5"
      },
      "outputs": [],
      "source": [
        "t1nostoptokens = stopwords_text(t1)"
      ]
    },
    {
      "cell_type": "markdown",
      "source": [
        "#####T2"
      ],
      "metadata": {
        "id": "seLbhpflZdlP"
      }
    },
    {
      "cell_type": "code",
      "execution_count": 33,
      "metadata": {
        "id": "T1eOBoOfCsES"
      },
      "outputs": [],
      "source": [
        "t2nostoptokens = stopwords_text(t2)"
      ]
    },
    {
      "cell_type": "markdown",
      "metadata": {
        "id": "2CSQVXxnJBVy"
      },
      "source": [
        "####Frequency graph of most frequent 60 words after removing stopwords\n",
        "\n",
        "---\n",
        "\n"
      ]
    },
    {
      "cell_type": "markdown",
      "source": [
        "#####T1"
      ],
      "metadata": {
        "id": "FBCadxlP2ykE"
      }
    },
    {
      "cell_type": "code",
      "execution_count": null,
      "metadata": {
        "id": "YTY-sSD1vXT6"
      },
      "outputs": [],
      "source": [
        "t1nostopfreq = freq(t1nostoptokens)\n",
        "t1nostopfreq_graph = freq_graph(t1nostoptokens)"
      ]
    },
    {
      "cell_type": "markdown",
      "source": [
        "#####T2"
      ],
      "metadata": {
        "id": "asiNCnYi2z_J"
      }
    },
    {
      "cell_type": "code",
      "execution_count": null,
      "metadata": {
        "id": "L4V0THHuCvmO"
      },
      "outputs": [],
      "source": [
        "t2nostopfreq = freq(t2nostoptokens)\n",
        "t2nostopfreq_graph = freq_graph(t2nostoptokens)"
      ]
    },
    {
      "cell_type": "markdown",
      "metadata": {
        "id": "3jO5j9H-JH5z"
      },
      "source": [
        "####Wordcloud after removing stopwords"
      ]
    },
    {
      "cell_type": "markdown",
      "source": [
        "#####T1"
      ],
      "metadata": {
        "id": "jH6dBpOhZwz_"
      }
    },
    {
      "cell_type": "code",
      "execution_count": null,
      "metadata": {
        "id": "BU_WZrF2z6TA"
      },
      "outputs": [],
      "source": [
        "t1nostopwordcloud = word_cloud(t1nostopfreq)\n",
        "showCloud(t1nostopwordcloud)"
      ]
    },
    {
      "cell_type": "markdown",
      "source": [
        "#####T2"
      ],
      "metadata": {
        "id": "XMrkfJLh26IG"
      }
    },
    {
      "cell_type": "code",
      "execution_count": null,
      "metadata": {
        "id": "4Ya6AutfC2q4"
      },
      "outputs": [],
      "source": [
        "t2nostopwordcloud = word_cloud(t2nostopfreq)\n",
        "showCloud(t2nostopwordcloud)"
      ]
    },
    {
      "cell_type": "markdown",
      "metadata": {
        "id": "Ep69YXtmJvdg"
      },
      "source": [
        "#Frequency relation with length of words"
      ]
    },
    {
      "cell_type": "markdown",
      "source": [
        "####T1"
      ],
      "metadata": {
        "id": "ncugLsbpaA_J"
      }
    },
    {
      "cell_type": "code",
      "execution_count": null,
      "metadata": {
        "id": "wjavWyBNejAi"
      },
      "outputs": [],
      "source": [
        "word_counter(t1)\n",
        "\n",
        "list_count_t1 = sorted(words.items())\n",
        "x1, y1 = zip(*list_count_t1)\n",
        "plt.plot(x1, y1)\n",
        "plt.xticks(range(0, 30))\n",
        "plt.rcParams[\"figure.figsize\"] = (15, 10)\n",
        "plt.xlabel(\"Wordlength\")\n",
        "plt.ylabel(\"Frequency\")\n",
        "plt.show()"
      ]
    },
    {
      "cell_type": "markdown",
      "source": [
        "####T2"
      ],
      "metadata": {
        "id": "f5Paxr87aGli"
      }
    },
    {
      "cell_type": "code",
      "execution_count": null,
      "metadata": {
        "id": "j5cbAEBEC7VY"
      },
      "outputs": [],
      "source": [
        "list_count_t2 = sorted(words.items())\n",
        "x2, y2 = zip(*list_count_t2)\n",
        "plt.plot(x2, y2)\n",
        "plt.xticks(range(0, 30))\n",
        "plt.rcParams[\"figure.figsize\"] = (15, 10)\n",
        "plt.xlabel(\"Wordlength\")\n",
        "plt.ylabel(\"Frequency\")\n",
        "plt.show()"
      ]
    },
    {
      "cell_type": "markdown",
      "metadata": {
        "id": "LjwQ3YrBJ2Du"
      },
      "source": [
        "#POS Tagging the contents of textbook"
      ]
    },
    {
      "cell_type": "markdown",
      "metadata": {
        "id": "WM1EnvwjKChT"
      },
      "source": [
        "###Tagging words"
      ]
    },
    {
      "cell_type": "markdown",
      "source": [
        "####T1"
      ],
      "metadata": {
        "id": "-_xzibVDaMvj"
      }
    },
    {
      "cell_type": "code",
      "execution_count": null,
      "metadata": {
        "id": "sFFiOxcUmI1R"
      },
      "outputs": [],
      "source": [
        "tagged1 = nltk.pos_tag(t1tokens)\n",
        "tagged1"
      ]
    },
    {
      "cell_type": "markdown",
      "source": [
        "####T2"
      ],
      "metadata": {
        "id": "7Y5zWv-xaOIF"
      }
    },
    {
      "cell_type": "code",
      "execution_count": null,
      "metadata": {
        "id": "Z7hbxwRhDGrm"
      },
      "outputs": [],
      "source": [
        "tagged2 = nltk.pos_tag(t2tokens)\n",
        "tagged2"
      ]
    },
    {
      "cell_type": "markdown",
      "metadata": {
        "id": "qjiaMNo9KIYp"
      },
      "source": [
        "###Plotting the freqency bar graph for POS tags"
      ]
    },
    {
      "cell_type": "markdown",
      "source": [
        "####T1"
      ],
      "metadata": {
        "id": "jQvlq8praVGo"
      }
    },
    {
      "cell_type": "code",
      "execution_count": null,
      "metadata": {
        "id": "kMCXzX2Cm1tS"
      },
      "outputs": [],
      "source": [
        "dict1 = {}\n",
        "for a, b in tagged1:\n",
        "    if(b not in dict1):\n",
        "        dict1[b] = 1\n",
        "    else:\n",
        "        dict1[b] += 1\n",
        "\n",
        "sorted_d1 = dict(sorted(dict1.items(), key=operator.itemgetter(1), reverse=True))\n",
        "\n",
        "\n",
        "N = 20\n",
        "out1 = dict(list(sorted_d1.items())[0: N])\n",
        "\n",
        "plt.bar(out1.keys(), out1.values())\n",
        "plt.xlabel('TAGS')\n",
        "plt.ylabel('Count')\n",
        "plt.show()"
      ]
    },
    {
      "cell_type": "markdown",
      "source": [
        "####T2"
      ],
      "metadata": {
        "id": "7ZQqdhBIaeKx"
      }
    },
    {
      "cell_type": "code",
      "execution_count": null,
      "metadata": {
        "id": "6MbriAExDO-A"
      },
      "outputs": [],
      "source": [
        "dict2 = {}\n",
        "for a, b in tagged2:\n",
        "    if(b not in dict2):\n",
        "        dict2[b] = 1\n",
        "    else:\n",
        "        dict2[b] += 1\n",
        "\n",
        "sorted_d2 = dict(sorted(dict2.items(), key=operator.itemgetter(1), reverse=True))\n",
        "\n",
        "\n",
        "N = 20\n",
        "out1 = dict(list(sorted_d2.items())[0: N])\n",
        "\n",
        "plt.bar(out1.keys(), out1.values())\n",
        "plt.xlabel('TAGS')\n",
        "plt.ylabel('Count')\n",
        "plt.show()"
      ]
    }
  ],
  "metadata": {
    "colab": {
      "collapsed_sections": [],
      "provenance": [],
      "include_colab_link": true
    },
    "kernelspec": {
      "display_name": "Python 3",
      "name": "python3"
    },
    "language_info": {
      "name": "python"
    }
  },
  "nbformat": 4,
  "nbformat_minor": 0
}